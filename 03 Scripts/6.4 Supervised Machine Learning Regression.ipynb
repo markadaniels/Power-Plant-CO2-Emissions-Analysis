{
 "cells": [
  {
   "cell_type": "markdown",
   "id": "c1a193de",
   "metadata": {},
   "source": [
    "# 6.4 Supervised Machine Learning Regression"
   ]
  },
  {
   "cell_type": "markdown",
   "id": "2b4d4f38",
   "metadata": {},
   "source": [
    "### This script contains the following:\n",
    "\n",
    "#### 1. Import libraries and data\n",
    "#### 2. Clean the data\n",
    "#### 3. Prepare data for regression analysis\n",
    "#### 4. Regression analysis"
   ]
  },
  {
   "cell_type": "markdown",
   "id": "57acc5d2",
   "metadata": {},
   "source": [
    "### 1. Import libraries and data"
   ]
  },
  {
   "cell_type": "code",
   "execution_count": 185,
   "id": "33695c0e",
   "metadata": {},
   "outputs": [],
   "source": [
    "import pandas as pd\n",
    "import numpy as np\n",
    "import seaborn as sns\n",
    "import matplotlib\n",
    "import matplotlib.pyplot as plt\n",
    "import os\n",
    "import sklearn\n",
    "from sklearn.model_selection import train_test_split \n",
    "from sklearn.linear_model import LinearRegression\n",
    "from sklearn.metrics import mean_squared_error, r2_score"
   ]
  },
  {
   "cell_type": "code",
   "execution_count": 186,
   "id": "7f809152",
   "metadata": {},
   "outputs": [],
   "source": [
    "# Prompt matplotlib visuals to appear in the notebook\n",
    "\n",
    "%matplotlib inline"
   ]
  },
  {
   "cell_type": "code",
   "execution_count": 187,
   "id": "a10cca37",
   "metadata": {},
   "outputs": [],
   "source": [
    "# Define path\n",
    "\n",
    "path = r'C:\\Users\\Mark\\_Electric Power Plant Emissions'"
   ]
  },
  {
   "cell_type": "code",
   "execution_count": 188,
   "id": "fb0f3435",
   "metadata": {},
   "outputs": [],
   "source": [
    "# Import the \"emissions\" data\n",
    "\n",
    "df = pd.read_pickle(os.path.join(path, '03 Scripts', 'Prepared Data', 'emissions2016-2019-clean-el.pkl'))"
   ]
  },
  {
   "cell_type": "markdown",
   "id": "6a5d89dd",
   "metadata": {},
   "source": [
    "### 2. Clean the data"
   ]
  },
  {
   "cell_type": "code",
   "execution_count": 189,
   "id": "cbf382cf",
   "metadata": {},
   "outputs": [
    {
     "data": {
      "text/plain": [
       "Index(['Plant Code', 'Year', 'Plant Name', 'State', 'Sector Group',\n",
       "       'Sector Code', 'Prime Mover', 'Fuel Code', 'Aggregated Fuel Group',\n",
       "       'Generation (kWh)', 'Useful Thermal Output (MMBtu)',\n",
       "       'Total Fuel Use (MMBtu)', 'Fuel Use(generate electric MMBtu)',\n",
       "       'Fuel Use(useful thermal output MMBtu)', 'Fuel Consumed Qty',\n",
       "       'Fuel Units', 'Tons of CO2 Emissions', 'CO2 Emissions Metric Tonnes',\n",
       "       'NERC Region', 'Balancing Authority Code', 'Balancing Authority Name',\n",
       "       'EIA Balancing Authority Region', 'Emission Levels'],\n",
       "      dtype='object')"
      ]
     },
     "execution_count": 189,
     "metadata": {},
     "output_type": "execute_result"
    }
   ],
   "source": [
    "# Review main dataframe columns\n",
    "\n",
    "df.columns"
   ]
  },
  {
   "cell_type": "code",
   "execution_count": 190,
   "id": "b426eaa2",
   "metadata": {},
   "outputs": [
    {
     "data": {
      "text/html": [
       "<div>\n",
       "<style scoped>\n",
       "    .dataframe tbody tr th:only-of-type {\n",
       "        vertical-align: middle;\n",
       "    }\n",
       "\n",
       "    .dataframe tbody tr th {\n",
       "        vertical-align: top;\n",
       "    }\n",
       "\n",
       "    .dataframe thead th {\n",
       "        text-align: right;\n",
       "    }\n",
       "</style>\n",
       "<table border=\"1\" class=\"dataframe\">\n",
       "  <thead>\n",
       "    <tr style=\"text-align: right;\">\n",
       "      <th></th>\n",
       "      <th>Plant Code</th>\n",
       "      <th>Year</th>\n",
       "      <th>Plant Name</th>\n",
       "      <th>State</th>\n",
       "      <th>Sector Group</th>\n",
       "      <th>Sector Code</th>\n",
       "      <th>Prime Mover</th>\n",
       "      <th>Fuel Code</th>\n",
       "      <th>Aggregated Fuel Group</th>\n",
       "      <th>Generation (kWh)</th>\n",
       "      <th>...</th>\n",
       "      <th>Fuel Use(useful thermal output MMBtu)</th>\n",
       "      <th>Fuel Consumed Qty</th>\n",
       "      <th>Fuel Units</th>\n",
       "      <th>Tons of CO2 Emissions</th>\n",
       "      <th>CO2 Emissions Metric Tonnes</th>\n",
       "      <th>NERC Region</th>\n",
       "      <th>Balancing Authority Code</th>\n",
       "      <th>Balancing Authority Name</th>\n",
       "      <th>EIA Balancing Authority Region</th>\n",
       "      <th>Emission Levels</th>\n",
       "    </tr>\n",
       "  </thead>\n",
       "  <tbody>\n",
       "    <tr>\n",
       "      <th>0</th>\n",
       "      <td>3</td>\n",
       "      <td>2016</td>\n",
       "      <td>Barry</td>\n",
       "      <td>AL</td>\n",
       "      <td>Electric Power</td>\n",
       "      <td>1</td>\n",
       "      <td>CA</td>\n",
       "      <td>NG</td>\n",
       "      <td>GAS</td>\n",
       "      <td>2918277000</td>\n",
       "      <td>...</td>\n",
       "      <td>0</td>\n",
       "      <td>878457</td>\n",
       "      <td>Mcf</td>\n",
       "      <td>52374.0</td>\n",
       "      <td>47513.0</td>\n",
       "      <td>SERC</td>\n",
       "      <td>SOCO</td>\n",
       "      <td>Southern Company Services, Inc. - Trans</td>\n",
       "      <td>Southeast</td>\n",
       "      <td>low</td>\n",
       "    </tr>\n",
       "    <tr>\n",
       "      <th>1</th>\n",
       "      <td>3</td>\n",
       "      <td>2016</td>\n",
       "      <td>Barry</td>\n",
       "      <td>AL</td>\n",
       "      <td>Electric Power</td>\n",
       "      <td>1</td>\n",
       "      <td>CT</td>\n",
       "      <td>NG</td>\n",
       "      <td>GAS</td>\n",
       "      <td>5483083000</td>\n",
       "      <td>...</td>\n",
       "      <td>0</td>\n",
       "      <td>56694492</td>\n",
       "      <td>Mcf</td>\n",
       "      <td>3380728.0</td>\n",
       "      <td>3066976.0</td>\n",
       "      <td>SERC</td>\n",
       "      <td>SOCO</td>\n",
       "      <td>Southern Company Services, Inc. - Trans</td>\n",
       "      <td>Southeast</td>\n",
       "      <td>high</td>\n",
       "    </tr>\n",
       "    <tr>\n",
       "      <th>2</th>\n",
       "      <td>3</td>\n",
       "      <td>2016</td>\n",
       "      <td>Barry</td>\n",
       "      <td>AL</td>\n",
       "      <td>Electric Power</td>\n",
       "      <td>1</td>\n",
       "      <td>ST</td>\n",
       "      <td>BIT</td>\n",
       "      <td>COAL</td>\n",
       "      <td>4278313064</td>\n",
       "      <td>...</td>\n",
       "      <td>0</td>\n",
       "      <td>2044002</td>\n",
       "      <td>Tons</td>\n",
       "      <td>4436536.0</td>\n",
       "      <td>4024799.0</td>\n",
       "      <td>SERC</td>\n",
       "      <td>SOCO</td>\n",
       "      <td>Southern Company Services, Inc. - Trans</td>\n",
       "      <td>Southeast</td>\n",
       "      <td>high</td>\n",
       "    </tr>\n",
       "    <tr>\n",
       "      <th>3</th>\n",
       "      <td>3</td>\n",
       "      <td>2016</td>\n",
       "      <td>Barry</td>\n",
       "      <td>AL</td>\n",
       "      <td>Electric Power</td>\n",
       "      <td>1</td>\n",
       "      <td>ST</td>\n",
       "      <td>NG</td>\n",
       "      <td>GAS</td>\n",
       "      <td>91217936</td>\n",
       "      <td>...</td>\n",
       "      <td>0</td>\n",
       "      <td>908006</td>\n",
       "      <td>Mcf</td>\n",
       "      <td>54172.0</td>\n",
       "      <td>49144.0</td>\n",
       "      <td>SERC</td>\n",
       "      <td>SOCO</td>\n",
       "      <td>Southern Company Services, Inc. - Trans</td>\n",
       "      <td>Southeast</td>\n",
       "      <td>low</td>\n",
       "    </tr>\n",
       "    <tr>\n",
       "      <th>4</th>\n",
       "      <td>7</td>\n",
       "      <td>2016</td>\n",
       "      <td>Gadsden</td>\n",
       "      <td>AL</td>\n",
       "      <td>Electric Power</td>\n",
       "      <td>1</td>\n",
       "      <td>ST</td>\n",
       "      <td>NG</td>\n",
       "      <td>GAS</td>\n",
       "      <td>190978000</td>\n",
       "      <td>...</td>\n",
       "      <td>404532</td>\n",
       "      <td>2570783</td>\n",
       "      <td>Mcf</td>\n",
       "      <td>152816.0</td>\n",
       "      <td>138633.0</td>\n",
       "      <td>SERC</td>\n",
       "      <td>SOCO</td>\n",
       "      <td>Southern Company Services, Inc. - Trans</td>\n",
       "      <td>Southeast</td>\n",
       "      <td>low</td>\n",
       "    </tr>\n",
       "  </tbody>\n",
       "</table>\n",
       "<p>5 rows × 23 columns</p>\n",
       "</div>"
      ],
      "text/plain": [
       "   Plant Code  Year Plant Name State    Sector Group  Sector Code Prime Mover  \\\n",
       "0           3  2016      Barry    AL  Electric Power            1          CA   \n",
       "1           3  2016      Barry    AL  Electric Power            1          CT   \n",
       "2           3  2016      Barry    AL  Electric Power            1          ST   \n",
       "3           3  2016      Barry    AL  Electric Power            1          ST   \n",
       "4           7  2016    Gadsden    AL  Electric Power            1          ST   \n",
       "\n",
       "  Fuel Code Aggregated Fuel Group  Generation (kWh)  ...  \\\n",
       "0        NG                   GAS        2918277000  ...   \n",
       "1        NG                   GAS        5483083000  ...   \n",
       "2       BIT                  COAL        4278313064  ...   \n",
       "3        NG                   GAS          91217936  ...   \n",
       "4        NG                   GAS         190978000  ...   \n",
       "\n",
       "   Fuel Use(useful thermal output MMBtu)  Fuel Consumed Qty  Fuel Units  \\\n",
       "0                                      0             878457         Mcf   \n",
       "1                                      0           56694492         Mcf   \n",
       "2                                      0            2044002        Tons   \n",
       "3                                      0             908006         Mcf   \n",
       "4                                 404532            2570783         Mcf   \n",
       "\n",
       "   Tons of CO2 Emissions  CO2 Emissions Metric Tonnes NERC Region  \\\n",
       "0                52374.0                      47513.0        SERC   \n",
       "1              3380728.0                    3066976.0        SERC   \n",
       "2              4436536.0                    4024799.0        SERC   \n",
       "3                54172.0                      49144.0        SERC   \n",
       "4               152816.0                     138633.0        SERC   \n",
       "\n",
       "   Balancing Authority Code                 Balancing Authority Name  \\\n",
       "0                      SOCO  Southern Company Services, Inc. - Trans   \n",
       "1                      SOCO  Southern Company Services, Inc. - Trans   \n",
       "2                      SOCO  Southern Company Services, Inc. - Trans   \n",
       "3                      SOCO  Southern Company Services, Inc. - Trans   \n",
       "4                      SOCO  Southern Company Services, Inc. - Trans   \n",
       "\n",
       "  EIA Balancing Authority Region Emission Levels  \n",
       "0                      Southeast             low  \n",
       "1                      Southeast           high   \n",
       "2                      Southeast           high   \n",
       "3                      Southeast             low  \n",
       "4                      Southeast             low  \n",
       "\n",
       "[5 rows x 23 columns]"
      ]
     },
     "execution_count": 190,
     "metadata": {},
     "output_type": "execute_result"
    }
   ],
   "source": [
    "# Review the first few rows of the main dataframe\n",
    "\n",
    "df.head()"
   ]
  },
  {
   "cell_type": "code",
   "execution_count": 191,
   "id": "7cdf3eb2",
   "metadata": {},
   "outputs": [
    {
     "data": {
      "text/plain": [
       "(21480, 23)"
      ]
     },
     "execution_count": 191,
     "metadata": {},
     "output_type": "execute_result"
    }
   ],
   "source": [
    "# Check number of rows and columns\n",
    "\n",
    "df.shape"
   ]
  },
  {
   "cell_type": "code",
   "execution_count": 192,
   "id": "a9a66a9d",
   "metadata": {},
   "outputs": [
    {
     "data": {
      "text/plain": [
       "Plant Code                               0\n",
       "Year                                     0\n",
       "Plant Name                               0\n",
       "State                                    0\n",
       "Sector Group                             0\n",
       "Sector Code                              0\n",
       "Prime Mover                              0\n",
       "Fuel Code                                0\n",
       "Aggregated Fuel Group                    0\n",
       "Generation (kWh)                         0\n",
       "Useful Thermal Output (MMBtu)            0\n",
       "Total Fuel Use (MMBtu)                   0\n",
       "Fuel Use(generate electric MMBtu)        0\n",
       "Fuel Use(useful thermal output MMBtu)    0\n",
       "Fuel Consumed Qty                        0\n",
       "Fuel Units                               0\n",
       "Tons of CO2 Emissions                    0\n",
       "CO2 Emissions Metric Tonnes              0\n",
       "NERC Region                              0\n",
       "Balancing Authority Code                 0\n",
       "Balancing Authority Name                 0\n",
       "EIA Balancing Authority Region           0\n",
       "Emission Levels                          0\n",
       "dtype: int64"
      ]
     },
     "execution_count": 192,
     "metadata": {},
     "output_type": "execute_result"
    }
   ],
   "source": [
    "# Check for missing values\n",
    "\n",
    "df.isnull().sum()"
   ]
  },
  {
   "cell_type": "code",
   "execution_count": 193,
   "id": "b6317eeb",
   "metadata": {},
   "outputs": [],
   "source": [
    "# Find duplicates\n",
    "\n",
    "df_duplicates = df[df.duplicated()]"
   ]
  },
  {
   "cell_type": "code",
   "execution_count": 194,
   "id": "ec3ef3e4",
   "metadata": {},
   "outputs": [
    {
     "data": {
      "text/plain": [
       "(0, 23)"
      ]
     },
     "execution_count": 194,
     "metadata": {},
     "output_type": "execute_result"
    }
   ],
   "source": [
    "# No rows indicates no duplicates found\n",
    "\n",
    "df_duplicates.shape"
   ]
  },
  {
   "cell_type": "code",
   "execution_count": 195,
   "id": "8cca5a23",
   "metadata": {},
   "outputs": [
    {
     "data": {
      "text/plain": [
       "<AxesSubplot:xlabel='Tons of CO2 Emissions', ylabel='Count'>"
      ]
     },
     "execution_count": 195,
     "metadata": {},
     "output_type": "execute_result"
    },
    {
     "data": {
      "image/png": "[encoded data removed]",
      "text/plain": [
       "<Figure size 432x288 with 1 Axes>"
      ]
     },
     "metadata": {
      "needs_background": "light"
     },
     "output_type": "display_data"
    }
   ],
   "source": [
    "# Check for extreme values\n",
    "\n",
    "sns.histplot(df['Tons of CO2 Emissions'], bins=12) "
   ]
  },
  {
   "cell_type": "code",
   "execution_count": 196,
   "id": "8cb31b58",
   "metadata": {},
   "outputs": [
    {
     "data": {
      "text/plain": [
       "378563.74234514346"
      ]
     },
     "execution_count": 196,
     "metadata": {},
     "output_type": "execute_result"
    }
   ],
   "source": [
    "# Check the mean\n",
    "\n",
    "df['Tons of CO2 Emissions'].mean()"
   ]
  },
  {
   "cell_type": "code",
   "execution_count": 197,
   "id": "c4669cd8",
   "metadata": {},
   "outputs": [
    {
     "data": {
      "text/plain": [
       "7573.5"
      ]
     },
     "execution_count": 197,
     "metadata": {},
     "output_type": "execute_result"
    }
   ],
   "source": [
    "# Check the median\n",
    "\n",
    "df['Tons of CO2 Emissions'].median()"
   ]
  },
  {
   "cell_type": "code",
   "execution_count": 198,
   "id": "54e9d292",
   "metadata": {},
   "outputs": [
    {
     "data": {
      "text/plain": [
       "20030555.0"
      ]
     },
     "execution_count": 198,
     "metadata": {},
     "output_type": "execute_result"
    }
   ],
   "source": [
    "# Check the max\n",
    "\n",
    "df['Tons of CO2 Emissions'].max()"
   ]
  },
  {
   "cell_type": "markdown",
   "id": "30bcd52f",
   "metadata": {},
   "source": [
    "### 3. Prepare data for regression analysis\n",
    "#### Hypothesis: Greater generation of electricity means highr CO2 emissions"
   ]
  },
  {
   "cell_type": "code",
   "execution_count": 199,
   "id": "37f7919f",
   "metadata": {},
   "outputs": [
    {
     "data": {
      "text/plain": [
       "Index(['Plant Code', 'Year', 'Plant Name', 'State', 'Sector Group',\n",
       "       'Sector Code', 'Prime Mover', 'Fuel Code', 'Aggregated Fuel Group',\n",
       "       'Generation (kWh)', 'Useful Thermal Output (MMBtu)',\n",
       "       'Total Fuel Use (MMBtu)', 'Fuel Use(generate electric MMBtu)',\n",
       "       'Fuel Use(useful thermal output MMBtu)', 'Fuel Consumed Qty',\n",
       "       'Fuel Units', 'Tons of CO2 Emissions', 'CO2 Emissions Metric Tonnes',\n",
       "       'NERC Region', 'Balancing Authority Code', 'Balancing Authority Name',\n",
       "       'EIA Balancing Authority Region', 'Emission Levels'],\n",
       "      dtype='object')"
      ]
     },
     "execution_count": 199,
     "metadata": {},
     "output_type": "execute_result"
    }
   ],
   "source": [
    "df.columns"
   ]
  },
  {
   "cell_type": "code",
   "execution_count": 200,
   "id": "f2bd1903",
   "metadata": {},
   "outputs": [
    {
     "data": {
      "image/png": "[encoded data removed]",
      "text/plain": [
       "<Figure size 432x288 with 1 Axes>"
      ]
     },
     "metadata": {
      "needs_background": "light"
     },
     "output_type": "display_data"
    }
   ],
   "source": [
    "# Scatterplot showing how \"Generation (kWh)\" and \"Tons of CO2 Emissions\" variables correlate\n",
    "\n",
    "df.plot(x = 'Generation (kWh)', y='Tons of CO2 Emissions', style='o')\n",
    "plt.title('Generation (kWh) vs Tons of CO2 Emissions')  \n",
    "plt.xlabel('Generation (kWh)')  \n",
    "plt.ylabel('Tons of CO2 Emissions')  \n",
    "plt.show()"
   ]
  },
  {
   "cell_type": "markdown",
   "id": "54f7c621",
   "metadata": {},
   "source": [
    "It is clear to see the reltaively close relationship between the two variables, so greater generation of electricity seems to in fact mean greater higher CO2 emissions"
   ]
  },
  {
   "cell_type": "code",
   "execution_count": 201,
   "id": "53f9cd53",
   "metadata": {},
   "outputs": [],
   "source": [
    "# Convert the variables into NumPy arrays in separate objects (X and Y)\n",
    "\n",
    "X = df['Generation (kWh)'].values.reshape(-1, 1)\n",
    "Y = df['Tons of CO2 Emissions'].values.reshape(-1, 1)"
   ]
  },
  {
   "cell_type": "code",
   "execution_count": 202,
   "id": "96438f4b",
   "metadata": {},
   "outputs": [
    {
     "data": {
      "text/plain": [
       "array([[2918277000],\n",
       "       [5483083000],\n",
       "       [4278313064],\n",
       "       ...,\n",
       "       [  17681160],\n",
       "       [  16792000],\n",
       "       [  12421000]], dtype=int64)"
      ]
     },
     "execution_count": 202,
     "metadata": {},
     "output_type": "execute_result"
    }
   ],
   "source": [
    "# Review X (Generation (kWh))\n",
    "\n",
    "X"
   ]
  },
  {
   "cell_type": "code",
   "execution_count": 203,
   "id": "76ccb5ac",
   "metadata": {},
   "outputs": [
    {
     "data": {
      "text/plain": [
       "array([[  52374.        ],\n",
       "       [3380728.        ],\n",
       "       [4436536.        ],\n",
       "       ...,\n",
       "       [  34369.44611722],\n",
       "       [  72107.70822166],\n",
       "       [  57775.19125598]])"
      ]
     },
     "execution_count": 203,
     "metadata": {},
     "output_type": "execute_result"
    }
   ],
   "source": [
    "# Review Y (Tons of CO2 Emissions)\n",
    "\n",
    "Y"
   ]
  },
  {
   "cell_type": "code",
   "execution_count": 204,
   "id": "aae8ef59",
   "metadata": {},
   "outputs": [],
   "source": [
    "# Split data into training and test sets\n",
    "\n",
    "X_train, X_test, Y_train, Y_test = train_test_split(X, Y, test_size=0.3, random_state=0)"
   ]
  },
  {
   "cell_type": "markdown",
   "id": "6763bb34",
   "metadata": {},
   "source": [
    "### 4. Regression analysis"
   ]
  },
  {
   "cell_type": "code",
   "execution_count": 205,
   "id": "07f8ddaf",
   "metadata": {},
   "outputs": [],
   "source": [
    "# Regression object\n",
    "\n",
    "regression = LinearRegression()"
   ]
  },
  {
   "cell_type": "code",
   "execution_count": 206,
   "id": "7e19d493",
   "metadata": {},
   "outputs": [
    {
     "data": {
      "text/plain": [
       "LinearRegression()"
      ]
     },
     "execution_count": 206,
     "metadata": {},
     "output_type": "execute_result"
    }
   ],
   "source": [
    "# Fit the regression object onto the training set\n",
    "\n",
    "regression.fit(X_train, Y_train)"
   ]
  },
  {
   "cell_type": "code",
   "execution_count": 207,
   "id": "fb4a473c",
   "metadata": {},
   "outputs": [],
   "source": [
    "# Predict the values of Y using X\n",
    "\n",
    "Y_predicted = regression.predict(X_test)"
   ]
  },
  {
   "cell_type": "code",
   "execution_count": 208,
   "id": "ef692125",
   "metadata": {},
   "outputs": [
    {
     "data": {
      "image/png": "[encoded data removed]",
      "text/plain": [
       "<Figure size 432x288 with 1 Axes>"
      ]
     },
     "metadata": {
      "needs_background": "light"
     },
     "output_type": "display_data"
    }
   ],
   "source": [
    "# A plot that shows the regression line from the model on the test set\n",
    "\n",
    "plot_test = plt\n",
    "plot_test.scatter(X_test, Y_test, color='green', s = 15)\n",
    "plot_test.plot(X_test, Y_predicted, color='red', linewidth =2)\n",
    "plot_test.title('Generation (kWh) vs Tons of CO2 Emissions (Test set)')\n",
    "plot_test.xlabel('Generation (kWh)')\n",
    "plot_test.ylabel('Tons of CO2 Emissions')\n",
    "plot_test.show()"
   ]
  },
  {
   "cell_type": "markdown",
   "id": "8c6a2b76",
   "metadata": {},
   "source": [
    "The line of best fit appears to be a good fit with respect to the bulk of the data, however, there seems to be three separate linear correlations as well, perhaps the different sectors. This is something to be investigated further.\n",
    "\n",
    "Below we see the r-squared of 0.886 which indicates that around 89% of the observed variations are explained by the model's inputs."
   ]
  },
  {
   "cell_type": "code",
   "execution_count": 209,
   "id": "c1d6994b",
   "metadata": {},
   "outputs": [],
   "source": [
    "# Objects containing model summary statistics\n",
    "\n",
    "rmse = mean_squared_error(Y_test, Y_predicted)\n",
    "r2 = r2_score(Y_test, Y_predicted)"
   ]
  },
  {
   "cell_type": "code",
   "execution_count": 210,
   "id": "bb680269",
   "metadata": {},
   "outputs": [
    {
     "name": "stdout",
     "output_type": "stream",
     "text": [
      "Slope: [[0.00091486]]\n",
      "Mean squared error:  214894197842.47455\n",
      "R2 score:  0.8864560135344888\n"
     ]
    }
   ],
   "source": [
    "# Print the model summary statistics to evaluate the model's performance\n",
    "\n",
    "print('Slope:' , regression.coef_)\n",
    "print('Mean squared error: ', rmse)\n",
    "print('R2 score: ', r2)"
   ]
  },
  {
   "cell_type": "code",
   "execution_count": 211,
   "id": "5854107d",
   "metadata": {},
   "outputs": [
    {
     "data": {
      "text/plain": [
       "array([[-52831.41502857],\n",
       "       [-67871.55822534],\n",
       "       [-28871.2792097 ],\n",
       "       ...,\n",
       "       [-67752.75199709],\n",
       "       [252929.76984263],\n",
       "       [-67665.84046968]])"
      ]
     },
     "execution_count": 211,
     "metadata": {},
     "output_type": "execute_result"
    }
   ],
   "source": [
    "# Review \"Y_predicted\"\n",
    "\n",
    "Y_predicted"
   ]
  },
  {
   "cell_type": "code",
   "execution_count": 212,
   "id": "11430f45",
   "metadata": {},
   "outputs": [
    {
     "data": {
      "text/html": [
       "<div>\n",
       "<style scoped>\n",
       "    .dataframe tbody tr th:only-of-type {\n",
       "        vertical-align: middle;\n",
       "    }\n",
       "\n",
       "    .dataframe tbody tr th {\n",
       "        vertical-align: top;\n",
       "    }\n",
       "\n",
       "    .dataframe thead th {\n",
       "        text-align: right;\n",
       "    }\n",
       "</style>\n",
       "<table border=\"1\" class=\"dataframe\">\n",
       "  <thead>\n",
       "    <tr style=\"text-align: right;\">\n",
       "      <th></th>\n",
       "      <th>index</th>\n",
       "      <th>Actual</th>\n",
       "      <th>Predicted</th>\n",
       "    </tr>\n",
       "  </thead>\n",
       "  <tbody>\n",
       "    <tr>\n",
       "      <th>19</th>\n",
       "      <td>19</td>\n",
       "      <td>1.067838e+07</td>\n",
       "      <td>9.258451e+06</td>\n",
       "    </tr>\n",
       "    <tr>\n",
       "      <th>10</th>\n",
       "      <td>10</td>\n",
       "      <td>5.603245e+06</td>\n",
       "      <td>4.796506e+06</td>\n",
       "    </tr>\n",
       "    <tr>\n",
       "      <th>21</th>\n",
       "      <td>21</td>\n",
       "      <td>1.387049e+06</td>\n",
       "      <td>1.968063e+06</td>\n",
       "    </tr>\n",
       "    <tr>\n",
       "      <th>26</th>\n",
       "      <td>26</td>\n",
       "      <td>9.979857e+05</td>\n",
       "      <td>1.183881e+06</td>\n",
       "    </tr>\n",
       "    <tr>\n",
       "      <th>17</th>\n",
       "      <td>17</td>\n",
       "      <td>5.250810e+05</td>\n",
       "      <td>6.121772e+05</td>\n",
       "    </tr>\n",
       "    <tr>\n",
       "      <th>13</th>\n",
       "      <td>13</td>\n",
       "      <td>4.393510e+05</td>\n",
       "      <td>5.871311e+05</td>\n",
       "    </tr>\n",
       "    <tr>\n",
       "      <th>38</th>\n",
       "      <td>38</td>\n",
       "      <td>2.931740e+05</td>\n",
       "      <td>3.873338e+05</td>\n",
       "    </tr>\n",
       "    <tr>\n",
       "      <th>22</th>\n",
       "      <td>22</td>\n",
       "      <td>2.456876e+05</td>\n",
       "      <td>2.404840e+05</td>\n",
       "    </tr>\n",
       "    <tr>\n",
       "      <th>12</th>\n",
       "      <td>12</td>\n",
       "      <td>2.177120e+05</td>\n",
       "      <td>1.896527e+05</td>\n",
       "    </tr>\n",
       "    <tr>\n",
       "      <th>7</th>\n",
       "      <td>7</td>\n",
       "      <td>2.167320e+05</td>\n",
       "      <td>1.779965e+05</td>\n",
       "    </tr>\n",
       "    <tr>\n",
       "      <th>25</th>\n",
       "      <td>25</td>\n",
       "      <td>1.535504e+05</td>\n",
       "      <td>-2.928849e+04</td>\n",
       "    </tr>\n",
       "    <tr>\n",
       "      <th>46</th>\n",
       "      <td>46</td>\n",
       "      <td>8.612532e+04</td>\n",
       "      <td>7.764192e+05</td>\n",
       "    </tr>\n",
       "    <tr>\n",
       "      <th>30</th>\n",
       "      <td>30</td>\n",
       "      <td>6.408034e+04</td>\n",
       "      <td>2.414250e+04</td>\n",
       "    </tr>\n",
       "    <tr>\n",
       "      <th>8</th>\n",
       "      <td>8</td>\n",
       "      <td>5.801600e+04</td>\n",
       "      <td>-2.057701e+03</td>\n",
       "    </tr>\n",
       "    <tr>\n",
       "      <th>45</th>\n",
       "      <td>45</td>\n",
       "      <td>5.602231e+04</td>\n",
       "      <td>3.266774e+03</td>\n",
       "    </tr>\n",
       "    <tr>\n",
       "      <th>4</th>\n",
       "      <td>4</td>\n",
       "      <td>5.323211e+04</td>\n",
       "      <td>-5.410287e+02</td>\n",
       "    </tr>\n",
       "    <tr>\n",
       "      <th>2</th>\n",
       "      <td>2</td>\n",
       "      <td>3.232518e+04</td>\n",
       "      <td>-2.887128e+04</td>\n",
       "    </tr>\n",
       "    <tr>\n",
       "      <th>42</th>\n",
       "      <td>42</td>\n",
       "      <td>2.846426e+04</td>\n",
       "      <td>-2.969083e+04</td>\n",
       "    </tr>\n",
       "    <tr>\n",
       "      <th>32</th>\n",
       "      <td>32</td>\n",
       "      <td>2.023910e+04</td>\n",
       "      <td>-5.117186e+04</td>\n",
       "    </tr>\n",
       "    <tr>\n",
       "      <th>15</th>\n",
       "      <td>15</td>\n",
       "      <td>1.666010e+04</td>\n",
       "      <td>-4.523347e+04</td>\n",
       "    </tr>\n",
       "    <tr>\n",
       "      <th>0</th>\n",
       "      <td>0</td>\n",
       "      <td>1.595700e+04</td>\n",
       "      <td>-5.283142e+04</td>\n",
       "    </tr>\n",
       "    <tr>\n",
       "      <th>5</th>\n",
       "      <td>5</td>\n",
       "      <td>1.271900e+04</td>\n",
       "      <td>-5.556607e+04</td>\n",
       "    </tr>\n",
       "    <tr>\n",
       "      <th>27</th>\n",
       "      <td>27</td>\n",
       "      <td>1.098511e+04</td>\n",
       "      <td>-5.244717e+04</td>\n",
       "    </tr>\n",
       "    <tr>\n",
       "      <th>9</th>\n",
       "      <td>9</td>\n",
       "      <td>9.556376e+03</td>\n",
       "      <td>3.377316e+05</td>\n",
       "    </tr>\n",
       "    <tr>\n",
       "      <th>39</th>\n",
       "      <td>39</td>\n",
       "      <td>9.460384e+03</td>\n",
       "      <td>-5.711219e+04</td>\n",
       "    </tr>\n",
       "    <tr>\n",
       "      <th>28</th>\n",
       "      <td>28</td>\n",
       "      <td>6.726000e+03</td>\n",
       "      <td>9.360681e+05</td>\n",
       "    </tr>\n",
       "    <tr>\n",
       "      <th>43</th>\n",
       "      <td>43</td>\n",
       "      <td>4.716939e+03</td>\n",
       "      <td>-6.009547e+04</td>\n",
       "    </tr>\n",
       "    <tr>\n",
       "      <th>31</th>\n",
       "      <td>31</td>\n",
       "      <td>1.999190e+03</td>\n",
       "      <td>-6.598992e+04</td>\n",
       "    </tr>\n",
       "    <tr>\n",
       "      <th>36</th>\n",
       "      <td>36</td>\n",
       "      <td>8.824982e+02</td>\n",
       "      <td>-6.685619e+04</td>\n",
       "    </tr>\n",
       "    <tr>\n",
       "      <th>20</th>\n",
       "      <td>20</td>\n",
       "      <td>6.910000e+02</td>\n",
       "      <td>-6.718876e+04</td>\n",
       "    </tr>\n",
       "    <tr>\n",
       "      <th>3</th>\n",
       "      <td>3</td>\n",
       "      <td>4.769345e+02</td>\n",
       "      <td>-6.737456e+04</td>\n",
       "    </tr>\n",
       "    <tr>\n",
       "      <th>18</th>\n",
       "      <td>18</td>\n",
       "      <td>4.076837e+02</td>\n",
       "      <td>-6.742544e+04</td>\n",
       "    </tr>\n",
       "    <tr>\n",
       "      <th>34</th>\n",
       "      <td>34</td>\n",
       "      <td>3.712896e+02</td>\n",
       "      <td>-6.778111e+04</td>\n",
       "    </tr>\n",
       "    <tr>\n",
       "      <th>37</th>\n",
       "      <td>37</td>\n",
       "      <td>3.500031e+02</td>\n",
       "      <td>-6.720849e+04</td>\n",
       "    </tr>\n",
       "    <tr>\n",
       "      <th>49</th>\n",
       "      <td>49</td>\n",
       "      <td>2.130000e+02</td>\n",
       "      <td>-6.738963e+04</td>\n",
       "    </tr>\n",
       "    <tr>\n",
       "      <th>11</th>\n",
       "      <td>11</td>\n",
       "      <td>8.500000e+01</td>\n",
       "      <td>-6.766859e+04</td>\n",
       "    </tr>\n",
       "    <tr>\n",
       "      <th>35</th>\n",
       "      <td>35</td>\n",
       "      <td>7.700000e+01</td>\n",
       "      <td>-6.770609e+04</td>\n",
       "    </tr>\n",
       "    <tr>\n",
       "      <th>6</th>\n",
       "      <td>6</td>\n",
       "      <td>6.195107e+01</td>\n",
       "      <td>-6.777553e+04</td>\n",
       "    </tr>\n",
       "    <tr>\n",
       "      <th>23</th>\n",
       "      <td>23</td>\n",
       "      <td>3.725799e+01</td>\n",
       "      <td>-6.775824e+04</td>\n",
       "    </tr>\n",
       "    <tr>\n",
       "      <th>33</th>\n",
       "      <td>33</td>\n",
       "      <td>3.370961e+01</td>\n",
       "      <td>-6.772348e+04</td>\n",
       "    </tr>\n",
       "    <tr>\n",
       "      <th>16</th>\n",
       "      <td>16</td>\n",
       "      <td>3.145155e+01</td>\n",
       "      <td>-6.772622e+04</td>\n",
       "    </tr>\n",
       "    <tr>\n",
       "      <th>44</th>\n",
       "      <td>44</td>\n",
       "      <td>2.693543e+01</td>\n",
       "      <td>-6.772805e+04</td>\n",
       "    </tr>\n",
       "    <tr>\n",
       "      <th>47</th>\n",
       "      <td>47</td>\n",
       "      <td>7.000000e+00</td>\n",
       "      <td>-6.775367e+04</td>\n",
       "    </tr>\n",
       "    <tr>\n",
       "      <th>1</th>\n",
       "      <td>1</td>\n",
       "      <td>2.000000e+00</td>\n",
       "      <td>-6.787156e+04</td>\n",
       "    </tr>\n",
       "    <tr>\n",
       "      <th>14</th>\n",
       "      <td>14</td>\n",
       "      <td>0.000000e+00</td>\n",
       "      <td>-6.771005e+04</td>\n",
       "    </tr>\n",
       "    <tr>\n",
       "      <th>29</th>\n",
       "      <td>29</td>\n",
       "      <td>0.000000e+00</td>\n",
       "      <td>4.630809e+05</td>\n",
       "    </tr>\n",
       "    <tr>\n",
       "      <th>40</th>\n",
       "      <td>40</td>\n",
       "      <td>0.000000e+00</td>\n",
       "      <td>6.381381e+05</td>\n",
       "    </tr>\n",
       "    <tr>\n",
       "      <th>41</th>\n",
       "      <td>41</td>\n",
       "      <td>0.000000e+00</td>\n",
       "      <td>-6.775826e+04</td>\n",
       "    </tr>\n",
       "    <tr>\n",
       "      <th>24</th>\n",
       "      <td>24</td>\n",
       "      <td>0.000000e+00</td>\n",
       "      <td>3.928044e+05</td>\n",
       "    </tr>\n",
       "    <tr>\n",
       "      <th>48</th>\n",
       "      <td>48</td>\n",
       "      <td>0.000000e+00</td>\n",
       "      <td>-6.337495e+04</td>\n",
       "    </tr>\n",
       "  </tbody>\n",
       "</table>\n",
       "</div>"
      ],
      "text/plain": [
       "    index        Actual     Predicted\n",
       "19     19  1.067838e+07  9.258451e+06\n",
       "10     10  5.603245e+06  4.796506e+06\n",
       "21     21  1.387049e+06  1.968063e+06\n",
       "26     26  9.979857e+05  1.183881e+06\n",
       "17     17  5.250810e+05  6.121772e+05\n",
       "13     13  4.393510e+05  5.871311e+05\n",
       "38     38  2.931740e+05  3.873338e+05\n",
       "22     22  2.456876e+05  2.404840e+05\n",
       "12     12  2.177120e+05  1.896527e+05\n",
       "7       7  2.167320e+05  1.779965e+05\n",
       "25     25  1.535504e+05 -2.928849e+04\n",
       "46     46  8.612532e+04  7.764192e+05\n",
       "30     30  6.408034e+04  2.414250e+04\n",
       "8       8  5.801600e+04 -2.057701e+03\n",
       "45     45  5.602231e+04  3.266774e+03\n",
       "4       4  5.323211e+04 -5.410287e+02\n",
       "2       2  3.232518e+04 -2.887128e+04\n",
       "42     42  2.846426e+04 -2.969083e+04\n",
       "32     32  2.023910e+04 -5.117186e+04\n",
       "15     15  1.666010e+04 -4.523347e+04\n",
       "0       0  1.595700e+04 -5.283142e+04\n",
       "5       5  1.271900e+04 -5.556607e+04\n",
       "27     27  1.098511e+04 -5.244717e+04\n",
       "9       9  9.556376e+03  3.377316e+05\n",
       "39     39  9.460384e+03 -5.711219e+04\n",
       "28     28  6.726000e+03  9.360681e+05\n",
       "43     43  4.716939e+03 -6.009547e+04\n",
       "31     31  1.999190e+03 -6.598992e+04\n",
       "36     36  8.824982e+02 -6.685619e+04\n",
       "20     20  6.910000e+02 -6.718876e+04\n",
       "3       3  4.769345e+02 -6.737456e+04\n",
       "18     18  4.076837e+02 -6.742544e+04\n",
       "34     34  3.712896e+02 -6.778111e+04\n",
       "37     37  3.500031e+02 -6.720849e+04\n",
       "49     49  2.130000e+02 -6.738963e+04\n",
       "11     11  8.500000e+01 -6.766859e+04\n",
       "35     35  7.700000e+01 -6.770609e+04\n",
       "6       6  6.195107e+01 -6.777553e+04\n",
       "23     23  3.725799e+01 -6.775824e+04\n",
       "33     33  3.370961e+01 -6.772348e+04\n",
       "16     16  3.145155e+01 -6.772622e+04\n",
       "44     44  2.693543e+01 -6.772805e+04\n",
       "47     47  7.000000e+00 -6.775367e+04\n",
       "1       1  2.000000e+00 -6.787156e+04\n",
       "14     14  0.000000e+00 -6.771005e+04\n",
       "29     29  0.000000e+00  4.630809e+05\n",
       "40     40  0.000000e+00  6.381381e+05\n",
       "41     41  0.000000e+00 -6.775826e+04\n",
       "24     24  0.000000e+00  3.928044e+05\n",
       "48     48  0.000000e+00 -6.337495e+04"
      ]
     },
     "execution_count": 212,
     "metadata": {},
     "output_type": "execute_result"
    }
   ],
   "source": [
    "# A dataframe comparing the actual and predicted values of Y\n",
    "\n",
    "data = pd.DataFrame({'Actual': Y_test.flatten(), 'Predicted': Y_predicted.flatten()})\n",
    "data.head(50).reset_index().sort_values([('Actual')], ascending = False)"
   ]
  },
  {
   "cell_type": "markdown",
   "id": "be866831",
   "metadata": {},
   "source": [
    "##### Compare how the regression fits the training set"
   ]
  },
  {
   "cell_type": "code",
   "execution_count": 213,
   "id": "730b6f2c",
   "metadata": {},
   "outputs": [],
   "source": [
    "# Predict \"X_train\"\n",
    "\n",
    "Y_predicted_train = regression.predict(X_train)"
   ]
  },
  {
   "cell_type": "code",
   "execution_count": 214,
   "id": "ea1bc912",
   "metadata": {},
   "outputs": [],
   "source": [
    "# Objects containing model summary statistics\n",
    "\n",
    "rmse = mean_squared_error(Y_train, Y_predicted_train)\n",
    "r2 = r2_score(Y_train, Y_predicted_train)"
   ]
  },
  {
   "cell_type": "code",
   "execution_count": 215,
   "id": "a87190d7",
   "metadata": {},
   "outputs": [
    {
     "name": "stdout",
     "output_type": "stream",
     "text": [
      "Slope: [[0.00091486]]\n",
      "Mean squared error:  217619926453.06458\n",
      "R2 score:  0.8849098226930321\n"
     ]
    }
   ],
   "source": [
    "# Print the model summary statistics to evaluate the model's performance\n",
    "\n",
    "print('Slope:' , regression.coef_)\n",
    "print('Mean squared error: ', rmse)\n",
    "print('R2 score: ', r2)"
   ]
  },
  {
   "cell_type": "code",
   "execution_count": 216,
   "id": "bda5b842",
   "metadata": {},
   "outputs": [
    {
     "data": {
      "image/png": "[encoded data removed]",
      "text/plain": [
       "<Figure size 432x288 with 1 Axes>"
      ]
     },
     "metadata": {
      "needs_background": "light"
     },
     "output_type": "display_data"
    }
   ],
   "source": [
    "# Visualizing the training set results.\n",
    "\n",
    "plot_test = plt\n",
    "plot_test.scatter(X_train, Y_train, color='green', s = 15)\n",
    "plot_test.plot(X_train, Y_predicted_train, color='red', linewidth =3)\n",
    "plot_test.title('Generation (kWh) vs Tons of CO2 Emissions (Test set)')\n",
    "plot_test.xlabel('Generation (kWh)')\n",
    "plot_test.ylabel('Tons of CO2 Emissions')\n",
    "plot_test.show()"
   ]
  },
  {
   "cell_type": "markdown",
   "id": "8837b30c",
   "metadata": {},
   "source": [
    "The line of best fit appears to be similar to the test set fit, however, there still seems to be three separate linear correlations as mentioned before, Perhaps a segmenting of the data will be appropriate.\n",
    "\n",
    "The r-squared of 0.884 indicates that around 88% of the observed variations are explained by the model's inputs."
   ]
  },
  {
   "cell_type": "code",
   "execution_count": 217,
   "id": "20d9c3b2",
   "metadata": {},
   "outputs": [],
   "source": [
    "# Objects containing model summary statistics\n",
    "\n",
    "rmse_ = mean_squared_error(Y_train, Y_predicted_train)\n",
    "r2_ = r2_score(Y_train, Y_predicted_train)"
   ]
  },
  {
   "cell_type": "code",
   "execution_count": 218,
   "id": "a1f23bb1",
   "metadata": {},
   "outputs": [
    {
     "name": "stdout",
     "output_type": "stream",
     "text": [
      "Slope: [[0.00091486]]\n",
      "Mean squared error:  217619926453.06458\n",
      "R2 score:  0.8849098226930321\n"
     ]
    }
   ],
   "source": [
    "# Print the model summary statistics to evaluate the model's performance\n",
    "\n",
    "print('Slope:' , regression.coef_)\n",
    "print('Mean squared error: ', rmse_)\n",
    "print('R2 score: ', r2_)"
   ]
  }
 ],
 "metadata": {
  "kernelspec": {
   "display_name": "Python 3",
   "language": "python",
   "name": "python3"
  },
  "language_info": {
   "codemirror_mode": {
    "name": "ipython",
    "version": 3
   },
   "file_extension": ".py",
   "mimetype": "text/x-python",
   "name": "python",
   "nbconvert_exporter": "python",
   "pygments_lexer": "ipython3",
   "version": "3.8.8"
  }
 },
 "nbformat": 4,
 "nbformat_minor": 5
}
